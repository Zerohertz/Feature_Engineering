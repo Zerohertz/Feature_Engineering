{
 "cells": [
  {
   "cell_type": "code",
   "execution_count": 1,
   "id": "1865078c",
   "metadata": {},
   "outputs": [],
   "source": [
    "import pandas as pd\n",
    "import numpy as np\n",
    "\n",
    "def readDF(name):\n",
    "    df = pd.read_csv('Data/SlicedData/' + name + '.csv')\n",
    "    df = df.rename(columns = {'Unnamed: 0' : 'Index'})\n",
    "    df = df.set_index('Index', drop = True)\n",
    "    return df\n",
    "\n",
    "df1 = readDF('df1')\n",
    "df2 = readDF('df2')\n",
    "df3 = readDF('df3')\n",
    "df4 = readDF('df4')\n",
    "\n",
    "returnTime = lambda df: np.linspace(0, len(df) / 2 - 0.5, len(df))\n",
    "time1 = returnTime(df1)\n",
    "time2 = returnTime(df2)\n",
    "time3 = returnTime(df3)\n",
    "time4 = returnTime(df4)"
   ]
  },
  {
   "cell_type": "code",
   "execution_count": 2,
   "id": "3adf5d80",
   "metadata": {},
   "outputs": [],
   "source": [
    "import matplotlib as mpl\n",
    "from matplotlib import pyplot as plt\n",
    "from scipy import signal\n",
    "\n",
    "def stft(t, sig, nperseg, axis, tit, Label):\n",
    "    sr = 1 / (t[1] - t[0])\n",
    "    f, t, Z = signal.stft(sig, sr, nperseg = nperseg)\n",
    "    fig = plt.figure(figsize = (5, 5))\n",
    "    plt.pcolormesh(t, f, np.abs(Z), vmin = 0, vmax = 1, shading = 'gouraud')\n",
    "    plt.axis('off')\n",
    "    plt.savefig('Data/LearningData/' + axis + '/' + Label + '/' + tit + '.png', dpi = 100, bbox_inches = 'tight', pad_inches = 0)\n",
    "    plt.close(fig)\n",
    "    \n",
    "def xyzstft(t, df, nperseg, Label, No):    \n",
    "    stft(t, df.AccX, nperseg, 'X', No, Label)\n",
    "    stft(t, df.AccY, nperseg, 'Y', No, Label)\n",
    "    stft(t, df.AccZ, nperseg, 'Z', No, Label)\n",
    "    \n",
    "def frequencyDomainFeatureExtraction(t, df, nperseg, Label, window):\n",
    "    for i in range(len(t) - window):\n",
    "        xyzstft(t[i:i + window], df[i:i + window], nperseg, Label, str(i))"
   ]
  },
  {
   "cell_type": "code",
   "execution_count": 3,
   "id": "d870c9ed",
   "metadata": {
    "scrolled": false
   },
   "outputs": [],
   "source": [
    "window = 40\n",
    "nperseg = 40\n",
    "\n",
    "frequencyDomainFeatureExtraction(time1, df1, nperseg, 'Label_1', window)"
   ]
  },
  {
   "cell_type": "code",
   "execution_count": 4,
   "id": "e1a57405",
   "metadata": {},
   "outputs": [],
   "source": [
    "frequencyDomainFeatureExtraction(time2, df2, nperseg, 'Label_2', window)"
   ]
  },
  {
   "cell_type": "code",
   "execution_count": 5,
   "id": "b9435130",
   "metadata": {},
   "outputs": [],
   "source": [
    "frequencyDomainFeatureExtraction(time3, df3, nperseg, 'Label_3', window)"
   ]
  },
  {
   "cell_type": "code",
   "execution_count": 6,
   "id": "94990467",
   "metadata": {},
   "outputs": [],
   "source": [
    "frequencyDomainFeatureExtraction(time4, df4, nperseg, 'Label_4', window)"
   ]
  }
 ],
 "metadata": {
  "kernelspec": {
   "display_name": "Python 3 (ipykernel)",
   "language": "python",
   "name": "python3"
  },
  "language_info": {
   "codemirror_mode": {
    "name": "ipython",
    "version": 3
   },
   "file_extension": ".py",
   "mimetype": "text/x-python",
   "name": "python",
   "nbconvert_exporter": "python",
   "pygments_lexer": "ipython3",
   "version": "3.7.13"
  }
 },
 "nbformat": 4,
 "nbformat_minor": 5
}

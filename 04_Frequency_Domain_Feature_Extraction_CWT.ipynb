{
 "cells": [
  {
   "cell_type": "code",
   "execution_count": 1,
   "id": "1865078c",
   "metadata": {},
   "outputs": [],
   "source": [
    "import pandas as pd\n",
    "import numpy as np\n",
    "\n",
    "def readDF(name):\n",
    "    df = pd.read_csv('Data/SlicedData/' + name + '.csv')\n",
    "    df = df.rename(columns = {'Unnamed: 0' : 'Index'})\n",
    "    df = df.set_index('Index', drop = True)\n",
    "    return df\n",
    "\n",
    "df1 = readDF('df1')\n",
    "df2 = readDF('df2')\n",
    "df3 = readDF('df3')\n",
    "df4 = readDF('df4')\n",
    "\n",
    "returnTime = lambda df: np.linspace(0, len(df) / 2 - 0.5, len(df))\n",
    "time1 = returnTime(df1)\n",
    "time2 = returnTime(df2)\n",
    "time3 = returnTime(df3)\n",
    "time4 = returnTime(df4)"
   ]
  },
  {
   "cell_type": "code",
   "execution_count": 2,
   "id": "3adf5d80",
   "metadata": {},
   "outputs": [],
   "source": [
    "import matplotlib as mpl\n",
    "from matplotlib import pyplot as plt\n",
    "import pywt\n",
    "\n",
    "def cwt(w, sig, axis, tit, Label):\n",
    "    widths = np.arange(1, w)\n",
    "    coefs, freqs = pywt.cwt(sig, widths, \"mexh\")\n",
    "    fig = plt.figure(figsize = (5, 5))\n",
    "    plt.imshow(\n",
    "        coefs,\n",
    "        extent=[-1, 1, 1, w],\n",
    "        cmap=\"PRGn\",\n",
    "        aspect=\"auto\",\n",
    "        vmax=abs(coefs).max(),\n",
    "        vmin=-abs(coefs).max(),\n",
    "    );\n",
    "    plt.axis('off')\n",
    "    plt.savefig('Data/LearningData/' + axis + '/' + Label + '/' + tit + '.png', dpi = 100, bbox_inches = 'tight', pad_inches = 0)\n",
    "    plt.close(fig)\n",
    "    \n",
    "def xyzcwt(w, df, Label, No):    \n",
    "    cwt(w, df.AccX, 'X', No, Label)\n",
    "    cwt(w, df.AccY, 'Y', No, Label)\n",
    "    cwt(w, df.AccZ, 'Z', No, Label)\n",
    "    \n",
    "def frequencyDomainFeatureExtraction(w, df, Label, window):\n",
    "    for i in range(len(df) - window):\n",
    "        xyzcwt(w, df[i:i + window], Label, str(i))"
   ]
  },
  {
   "cell_type": "code",
   "execution_count": 3,
   "id": "d870c9ed",
   "metadata": {
    "scrolled": false
   },
   "outputs": [],
   "source": [
    "window = 100\n",
    "\n",
    "frequencyDomainFeatureExtraction(10, df1, 'Label_1', window)"
   ]
  },
  {
   "cell_type": "code",
   "execution_count": 4,
   "id": "e1a57405",
   "metadata": {},
   "outputs": [],
   "source": [
    "frequencyDomainFeatureExtraction(10, df1, 'Label_2', window)"
   ]
  },
  {
   "cell_type": "code",
   "execution_count": 5,
   "id": "b9435130",
   "metadata": {},
   "outputs": [],
   "source": [
    "frequencyDomainFeatureExtraction(10, df3, 'Label_3', window)"
   ]
  },
  {
   "cell_type": "code",
   "execution_count": 6,
   "id": "94990467",
   "metadata": {},
   "outputs": [],
   "source": [
    "frequencyDomainFeatureExtraction(10, df4, 'Label_4', window)"
   ]
  }
 ],
 "metadata": {
  "kernelspec": {
   "display_name": "Python 3 (ipykernel)",
   "language": "python",
   "name": "python3"
  },
  "language_info": {
   "codemirror_mode": {
    "name": "ipython",
    "version": 3
   },
   "file_extension": ".py",
   "mimetype": "text/x-python",
   "name": "python",
   "nbconvert_exporter": "python",
   "pygments_lexer": "ipython3",
   "version": "3.7.13"
  }
 },
 "nbformat": 4,
 "nbformat_minor": 5
}
